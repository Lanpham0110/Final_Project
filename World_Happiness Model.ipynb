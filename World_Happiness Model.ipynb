{
 "cells": [
  {
   "cell_type": "markdown",
   "metadata": {},
   "source": [
    "# PREDICTING A MODEL TO CALCULATE SCORE OF HAPPINESS "
   ]
  },
  {
   "cell_type": "code",
   "execution_count": 86,
   "metadata": {},
   "outputs": [
    {
     "name": "stdout",
     "output_type": "stream",
     "text": [
      "Requirement already satisfied: plotly in c:\\users\\lan\\.conda\\envs\\pythondata\\lib\\site-packages (4.14.3)\n",
      "Requirement already satisfied: six in c:\\users\\lan\\.conda\\envs\\pythondata\\lib\\site-packages (from plotly) (1.15.0)\n",
      "Requirement already satisfied: retrying>=1.3.3 in c:\\users\\lan\\.conda\\envs\\pythondata\\lib\\site-packages (from plotly) (1.3.3)\n"
     ]
    }
   ],
   "source": [
    "%matplotlib inline\n",
    "!pip install plotly\n",
    "import matplotlib.pyplot as plt\n",
    "import numpy as np\n",
    "import pandas as pd\n",
    "from sklearn import linear_model\n",
    "from sklearn.linear_model import LinearRegression\n",
    "from sklearn.model_selection import train_test_split\n",
    "import plotly.express as px\n",
    "import plotly.graph_objects as go"
   ]
  },
  {
   "cell_type": "code",
   "execution_count": 87,
   "metadata": {},
   "outputs": [
    {
     "data": {
      "text/html": [
       "<div>\n",
       "<style scoped>\n",
       "    .dataframe tbody tr th:only-of-type {\n",
       "        vertical-align: middle;\n",
       "    }\n",
       "\n",
       "    .dataframe tbody tr th {\n",
       "        vertical-align: top;\n",
       "    }\n",
       "\n",
       "    .dataframe thead th {\n",
       "        text-align: right;\n",
       "    }\n",
       "</style>\n",
       "<table border=\"1\" class=\"dataframe\">\n",
       "  <thead>\n",
       "    <tr style=\"text-align: right;\">\n",
       "      <th></th>\n",
       "      <th>Country</th>\n",
       "      <th>Score</th>\n",
       "      <th>GDP_per_capita</th>\n",
       "      <th>Social_support</th>\n",
       "      <th>Healthy_life_expectancy</th>\n",
       "      <th>Freedom</th>\n",
       "      <th>Generosity</th>\n",
       "      <th>Perceptions_of_corruption</th>\n",
       "    </tr>\n",
       "  </thead>\n",
       "  <tbody>\n",
       "    <tr>\n",
       "      <th>0</th>\n",
       "      <td>Finland</td>\n",
       "      <td>7.62</td>\n",
       "      <td>1.36</td>\n",
       "      <td>1.57</td>\n",
       "      <td>0.89</td>\n",
       "      <td>0.63</td>\n",
       "      <td>0.20</td>\n",
       "      <td>0.39</td>\n",
       "    </tr>\n",
       "    <tr>\n",
       "      <th>1</th>\n",
       "      <td>Norway</td>\n",
       "      <td>7.56</td>\n",
       "      <td>1.52</td>\n",
       "      <td>1.57</td>\n",
       "      <td>0.90</td>\n",
       "      <td>0.64</td>\n",
       "      <td>0.31</td>\n",
       "      <td>0.33</td>\n",
       "    </tr>\n",
       "    <tr>\n",
       "      <th>2</th>\n",
       "      <td>Denmark</td>\n",
       "      <td>7.56</td>\n",
       "      <td>1.41</td>\n",
       "      <td>1.57</td>\n",
       "      <td>0.89</td>\n",
       "      <td>0.63</td>\n",
       "      <td>0.30</td>\n",
       "      <td>0.41</td>\n",
       "    </tr>\n",
       "    <tr>\n",
       "      <th>3</th>\n",
       "      <td>Iceland</td>\n",
       "      <td>7.50</td>\n",
       "      <td>1.40</td>\n",
       "      <td>1.63</td>\n",
       "      <td>0.92</td>\n",
       "      <td>0.63</td>\n",
       "      <td>0.39</td>\n",
       "      <td>0.14</td>\n",
       "    </tr>\n",
       "    <tr>\n",
       "      <th>4</th>\n",
       "      <td>Switzerland</td>\n",
       "      <td>7.49</td>\n",
       "      <td>1.48</td>\n",
       "      <td>1.53</td>\n",
       "      <td>0.95</td>\n",
       "      <td>0.62</td>\n",
       "      <td>0.27</td>\n",
       "      <td>0.36</td>\n",
       "    </tr>\n",
       "    <tr>\n",
       "      <th>5</th>\n",
       "      <td>Netherlands</td>\n",
       "      <td>7.44</td>\n",
       "      <td>1.42</td>\n",
       "      <td>1.48</td>\n",
       "      <td>0.90</td>\n",
       "      <td>0.59</td>\n",
       "      <td>0.38</td>\n",
       "      <td>0.29</td>\n",
       "    </tr>\n",
       "    <tr>\n",
       "      <th>6</th>\n",
       "      <td>New Zealand</td>\n",
       "      <td>7.32</td>\n",
       "      <td>1.33</td>\n",
       "      <td>1.57</td>\n",
       "      <td>0.91</td>\n",
       "      <td>0.62</td>\n",
       "      <td>0.40</td>\n",
       "      <td>0.38</td>\n",
       "    </tr>\n",
       "    <tr>\n",
       "      <th>7</th>\n",
       "      <td>Sweden</td>\n",
       "      <td>7.31</td>\n",
       "      <td>1.41</td>\n",
       "      <td>1.49</td>\n",
       "      <td>0.92</td>\n",
       "      <td>0.62</td>\n",
       "      <td>0.31</td>\n",
       "      <td>0.38</td>\n",
       "    </tr>\n",
       "    <tr>\n",
       "      <th>8</th>\n",
       "      <td>Canada</td>\n",
       "      <td>7.31</td>\n",
       "      <td>1.39</td>\n",
       "      <td>1.51</td>\n",
       "      <td>0.92</td>\n",
       "      <td>0.62</td>\n",
       "      <td>0.35</td>\n",
       "      <td>0.30</td>\n",
       "    </tr>\n",
       "    <tr>\n",
       "      <th>9</th>\n",
       "      <td>Australia</td>\n",
       "      <td>7.26</td>\n",
       "      <td>1.40</td>\n",
       "      <td>1.54</td>\n",
       "      <td>0.93</td>\n",
       "      <td>0.60</td>\n",
       "      <td>0.39</td>\n",
       "      <td>0.30</td>\n",
       "    </tr>\n",
       "    <tr>\n",
       "      <th>10</th>\n",
       "      <td>Austria</td>\n",
       "      <td>7.13</td>\n",
       "      <td>1.40</td>\n",
       "      <td>1.48</td>\n",
       "      <td>0.91</td>\n",
       "      <td>0.57</td>\n",
       "      <td>0.27</td>\n",
       "      <td>0.22</td>\n",
       "    </tr>\n",
       "    <tr>\n",
       "      <th>11</th>\n",
       "      <td>Costa Rica</td>\n",
       "      <td>7.11</td>\n",
       "      <td>1.05</td>\n",
       "      <td>1.44</td>\n",
       "      <td>0.85</td>\n",
       "      <td>0.59</td>\n",
       "      <td>0.17</td>\n",
       "      <td>0.10</td>\n",
       "    </tr>\n",
       "    <tr>\n",
       "      <th>12</th>\n",
       "      <td>Israel</td>\n",
       "      <td>7.06</td>\n",
       "      <td>1.32</td>\n",
       "      <td>1.46</td>\n",
       "      <td>0.92</td>\n",
       "      <td>0.44</td>\n",
       "      <td>0.32</td>\n",
       "      <td>0.15</td>\n",
       "    </tr>\n",
       "    <tr>\n",
       "      <th>13</th>\n",
       "      <td>Ireland</td>\n",
       "      <td>6.99</td>\n",
       "      <td>1.49</td>\n",
       "      <td>1.56</td>\n",
       "      <td>0.89</td>\n",
       "      <td>0.57</td>\n",
       "      <td>0.34</td>\n",
       "      <td>0.30</td>\n",
       "    </tr>\n",
       "    <tr>\n",
       "      <th>14</th>\n",
       "      <td>United Kingdom</td>\n",
       "      <td>6.99</td>\n",
       "      <td>1.34</td>\n",
       "      <td>1.49</td>\n",
       "      <td>0.90</td>\n",
       "      <td>0.47</td>\n",
       "      <td>0.37</td>\n",
       "      <td>0.21</td>\n",
       "    </tr>\n",
       "    <tr>\n",
       "      <th>15</th>\n",
       "      <td>Germany</td>\n",
       "      <td>6.97</td>\n",
       "      <td>1.40</td>\n",
       "      <td>1.47</td>\n",
       "      <td>0.88</td>\n",
       "      <td>0.55</td>\n",
       "      <td>0.29</td>\n",
       "      <td>0.27</td>\n",
       "    </tr>\n",
       "    <tr>\n",
       "      <th>16</th>\n",
       "      <td>Luxembourg</td>\n",
       "      <td>6.95</td>\n",
       "      <td>1.64</td>\n",
       "      <td>1.49</td>\n",
       "      <td>0.92</td>\n",
       "      <td>0.58</td>\n",
       "      <td>0.22</td>\n",
       "      <td>0.32</td>\n",
       "    </tr>\n",
       "    <tr>\n",
       "      <th>17</th>\n",
       "      <td>United States</td>\n",
       "      <td>6.92</td>\n",
       "      <td>1.46</td>\n",
       "      <td>1.45</td>\n",
       "      <td>0.82</td>\n",
       "      <td>0.50</td>\n",
       "      <td>0.32</td>\n",
       "      <td>0.13</td>\n",
       "    </tr>\n",
       "    <tr>\n",
       "      <th>18</th>\n",
       "      <td>Belgium</td>\n",
       "      <td>6.91</td>\n",
       "      <td>1.38</td>\n",
       "      <td>1.48</td>\n",
       "      <td>0.90</td>\n",
       "      <td>0.53</td>\n",
       "      <td>0.19</td>\n",
       "      <td>0.23</td>\n",
       "    </tr>\n",
       "    <tr>\n",
       "      <th>19</th>\n",
       "      <td>United Arab Emirates</td>\n",
       "      <td>6.75</td>\n",
       "      <td>1.74</td>\n",
       "      <td>1.12</td>\n",
       "      <td>0.74</td>\n",
       "      <td>0.50</td>\n",
       "      <td>0.27</td>\n",
       "      <td>0.25</td>\n",
       "    </tr>\n",
       "  </tbody>\n",
       "</table>\n",
       "</div>"
      ],
      "text/plain": [
       "                 Country  Score  GDP_per_capita  Social_support  \\\n",
       "0                Finland   7.62            1.36            1.57   \n",
       "1                 Norway   7.56            1.52            1.57   \n",
       "2                Denmark   7.56            1.41            1.57   \n",
       "3                Iceland   7.50            1.40            1.63   \n",
       "4            Switzerland   7.49            1.48            1.53   \n",
       "5            Netherlands   7.44            1.42            1.48   \n",
       "6            New Zealand   7.32            1.33            1.57   \n",
       "7                 Sweden   7.31            1.41            1.49   \n",
       "8                 Canada   7.31            1.39            1.51   \n",
       "9              Australia   7.26            1.40            1.54   \n",
       "10               Austria   7.13            1.40            1.48   \n",
       "11            Costa Rica   7.11            1.05            1.44   \n",
       "12                Israel   7.06            1.32            1.46   \n",
       "13               Ireland   6.99            1.49            1.56   \n",
       "14        United Kingdom   6.99            1.34            1.49   \n",
       "15               Germany   6.97            1.40            1.47   \n",
       "16            Luxembourg   6.95            1.64            1.49   \n",
       "17         United States   6.92            1.46            1.45   \n",
       "18               Belgium   6.91            1.38            1.48   \n",
       "19  United Arab Emirates   6.75            1.74            1.12   \n",
       "\n",
       "    Healthy_life_expectancy  Freedom  Generosity  Perceptions_of_corruption  \n",
       "0                      0.89     0.63        0.20                       0.39  \n",
       "1                      0.90     0.64        0.31                       0.33  \n",
       "2                      0.89     0.63        0.30                       0.41  \n",
       "3                      0.92     0.63        0.39                       0.14  \n",
       "4                      0.95     0.62        0.27                       0.36  \n",
       "5                      0.90     0.59        0.38                       0.29  \n",
       "6                      0.91     0.62        0.40                       0.38  \n",
       "7                      0.92     0.62        0.31                       0.38  \n",
       "8                      0.92     0.62        0.35                       0.30  \n",
       "9                      0.93     0.60        0.39                       0.30  \n",
       "10                     0.91     0.57        0.27                       0.22  \n",
       "11                     0.85     0.59        0.17                       0.10  \n",
       "12                     0.92     0.44        0.32                       0.15  \n",
       "13                     0.89     0.57        0.34                       0.30  \n",
       "14                     0.90     0.47        0.37                       0.21  \n",
       "15                     0.88     0.55        0.29                       0.27  \n",
       "16                     0.92     0.58        0.22                       0.32  \n",
       "17                     0.82     0.50        0.32                       0.13  \n",
       "18                     0.90     0.53        0.19                       0.23  \n",
       "19                     0.74     0.50        0.27                       0.25  "
      ]
     },
     "execution_count": 87,
     "metadata": {},
     "output_type": "execute_result"
    }
   ],
   "source": [
    "# Read the csv file into a pandas DataFrame\n",
    "Data_Analysis = pd.read_csv('Data_Analysis.csv')\n",
    "Data_Analysis.head(20)"
   ]
  },
  {
   "cell_type": "markdown",
   "metadata": {},
   "source": [
    "# Create model"
   ]
  },
  {
   "cell_type": "code",
   "execution_count": 88,
   "metadata": {
    "scrolled": true
   },
   "outputs": [
    {
     "name": "stdout",
     "output_type": "stream",
     "text": [
      "Shape:  (164, 6) (164, 1)\n"
     ]
    }
   ],
   "source": [
    "# Assign the data to X and y\n",
    "X = Data_Analysis[[\"GDP_per_capita\", \"Social_support\", \"Healthy_life_expectancy\", \"Freedom\", \"Generosity\", \"Perceptions_of_corruption\"]]\n",
    "y = Data_Analysis[\"Score\"].values.reshape(-1, 1)\n",
    "\n",
    "print(\"Shape: \", X.shape, y.shape)"
   ]
  },
  {
   "cell_type": "code",
   "execution_count": 89,
   "metadata": {},
   "outputs": [
    {
     "name": "stdout",
     "output_type": "stream",
     "text": [
      "Xs coefficients:  [[0.83967072 1.14963842 1.01561784 1.4994525  0.45090078 0.73923403]]\n",
      "y-axis intercept:  [1.76987127]\n",
      "R2 Score: 0.8047110676017012\n"
     ]
    }
   ],
   "source": [
    "# Create the model using LinearRegression\n",
    "\n",
    "model = linear_model.LinearRegression()\n",
    "\n",
    "# Fitting our model with all of our features in X\n",
    "model.fit(X, y)\n",
    "\n",
    "score = model.score(X, y)\n",
    "\n",
    "print('Xs coefficients: ', model.coef_)\n",
    "print('y-axis intercept: ', model.intercept_)\n",
    "print(f\"R2 Score: {score}\")"
   ]
  },
  {
   "cell_type": "raw",
   "metadata": {},
   "source": [
    "X1= GDP per capita\n",
    "X2= Social support\n",
    "X3= Healthy life expectancy\n",
    "X4= Freedom\n",
    "X5= Generosity\n",
    "X6= Perceptions of corruption\n",
    "\n",
    "The equation is:\n",
    "    \n",
    "Score=(0.83967072*X1)+ (1.14963842*X2)+ (1.01561784*X3)+ (1.4994525*X4)+ (0.45090078*X5)+ (0.73923403*X6)+ 1.76987127\n"
   ]
  },
  {
   "cell_type": "markdown",
   "metadata": {},
   "source": [
    "# Train and Test our model"
   ]
  },
  {
   "cell_type": "code",
   "execution_count": 90,
   "metadata": {},
   "outputs": [],
   "source": [
    "# Use train_test_split to create training and testing data\n",
    "\n",
    "X_train, X_test, y_train, y_test = train_test_split(X, y,test_size = 0.2)"
   ]
  },
  {
   "cell_type": "code",
   "execution_count": 91,
   "metadata": {},
   "outputs": [
    {
     "name": "stdout",
     "output_type": "stream",
     "text": [
      "Training Score: 0.8132407000161485\n",
      "Testing Score: 0.7546739265729345\n"
     ]
    },
    {
     "data": {
      "image/png": "[encoded data removed]",
      "text/plain": [
       "<Figure size 432x288 with 1 Axes>"
      ]
     },
     "metadata": {
      "needs_background": "light"
     },
     "output_type": "display_data"
    }
   ],
   "source": [
    "# Fit the model to the training data and calculate the scores for the training and testing data\n",
    "model.fit(X_train, y_train)\n",
    "\n",
    "y_predict= model.predict(X_test)\n",
    "training_score = model.score(X_train, y_train)\n",
    "testing_score = model.score(X_test, y_test)\n",
    "\n",
    "plt.scatter(y_test, y_predict) \n",
    "plt.xlabel(\"Test scores\")\n",
    "plt.ylabel(\"Predicted scores\")\n",
    "plt.title(\"Actual Scores vs Predicted Scores\")\n",
    "print(f\"Training Score: {training_score}\")\n",
    "print(f\"Testing Score: {testing_score}\")\n",
    "\n",
    "plt.show()"
   ]
  },
  {
   "cell_type": "code",
   "execution_count": 92,
   "metadata": {},
   "outputs": [
    {
     "data": {
      "text/plain": [
       "array([[6.87737831]])"
      ]
     },
     "execution_count": 92,
     "metadata": {},
     "output_type": "execute_result"
    }
   ],
   "source": [
    "# model.predict(X_train, y_test)\n",
    "model.predict([[1.340,1.587,0.986,0.596,0.153,0.393]])"
   ]
  },
  {
   "cell_type": "code",
   "execution_count": 93,
   "metadata": {},
   "outputs": [
    {
     "data": {
      "text/plain": [
       "array([[6.42713645]])"
      ]
     },
     "execution_count": 93,
     "metadata": {},
     "output_type": "execute_result"
    }
   ],
   "source": [
    "#Predict happniness score for United States (actual score from data is 6.92)\n",
    "\n",
    "model.predict([[1.433,1.457,0.874,0.454,0.280,0.128]])\n"
   ]
  },
  {
   "cell_type": "code",
   "execution_count": 94,
   "metadata": {},
   "outputs": [
    {
     "data": {
      "text/plain": [
       "array([[6.87737831]])"
      ]
     },
     "execution_count": 94,
     "metadata": {},
     "output_type": "execute_result"
    }
   ],
   "source": [
    "#Predict happniness score for Finland (actual score from data is 7.62)\n",
    "\n",
    "model.predict([[1.340,1.587,0.986,0.596,0.153,0.393]])\n"
   ]
  },
  {
   "cell_type": "code",
   "execution_count": 95,
   "metadata": {},
   "outputs": [
    {
     "data": {
      "text/plain": [
       "array([[6.87274215],\n",
       "       [7.0784152 ],\n",
       "       [6.97594119],\n",
       "       [7.01222895],\n",
       "       [7.00108272],\n",
       "       [6.82589477],\n",
       "       [6.94787481],\n",
       "       [6.89691616],\n",
       "       [6.89352931],\n",
       "       [6.92694899],\n",
       "       [6.69886183],\n",
       "       [6.23543961],\n",
       "       [6.37704422],\n",
       "       [6.90708567],\n",
       "       [6.50977078],\n",
       "       [6.65039571],\n",
       "       [6.95703539],\n",
       "       [6.49945275],\n",
       "       [6.55894042],\n",
       "       [6.33948418],\n",
       "       [6.21919264],\n",
       "       [6.75332501],\n",
       "       [5.69458681],\n",
       "       [5.88863682],\n",
       "       [6.36699439],\n",
       "       [5.78044189],\n",
       "       [6.16594718],\n",
       "       [5.59362171],\n",
       "       [6.0551089 ],\n",
       "       [6.1555206 ],\n",
       "       [7.03807813],\n",
       "       [6.25451363],\n",
       "       [6.74678824],\n",
       "       [6.05476782],\n",
       "       [6.01823368],\n",
       "       [6.31145532],\n",
       "       [5.79423199],\n",
       "       [6.10202075],\n",
       "       [6.05398316],\n",
       "       [6.22099998],\n",
       "       [5.91452315],\n",
       "       [5.31603645],\n",
       "       [6.33563028],\n",
       "       [5.50093057],\n",
       "       [6.16296834],\n",
       "       [6.16817738],\n",
       "       [6.24657134],\n",
       "       [5.96636602],\n",
       "       [5.72666251],\n",
       "       [5.70198347],\n",
       "       [5.31125515],\n",
       "       [5.71872405],\n",
       "       [6.48832874],\n",
       "       [5.79248634],\n",
       "       [5.6901219 ],\n",
       "       [6.4499192 ],\n",
       "       [5.61328341],\n",
       "       [6.0682565 ],\n",
       "       [5.87472858],\n",
       "       [5.70310715],\n",
       "       [5.92393739],\n",
       "       [5.96229016],\n",
       "       [5.43096909],\n",
       "       [6.09906095],\n",
       "       [6.24739441],\n",
       "       [5.77509775],\n",
       "       [5.58923278],\n",
       "       [5.32795152],\n",
       "       [4.89602184],\n",
       "       [5.81397971],\n",
       "       [5.74202298],\n",
       "       [5.44343702],\n",
       "       [5.61279712],\n",
       "       [5.58495667],\n",
       "       [5.21418734],\n",
       "       [6.55654367],\n",
       "       [5.35013697],\n",
       "       [4.34470893],\n",
       "       [4.8647378 ],\n",
       "       [5.58319995],\n",
       "       [5.49036709],\n",
       "       [6.19898881],\n",
       "       [6.51481316],\n",
       "       [5.29563335],\n",
       "       [5.39049274],\n",
       "       [5.90054996],\n",
       "       [5.15082238],\n",
       "       [5.52301299],\n",
       "       [5.40668752],\n",
       "       [5.67906306],\n",
       "       [4.89938777],\n",
       "       [5.08401413],\n",
       "       [4.80235547],\n",
       "       [5.33717151],\n",
       "       [5.61757442],\n",
       "       [5.3777943 ],\n",
       "       [4.67264684],\n",
       "       [5.40262519],\n",
       "       [5.46196533],\n",
       "       [5.6158445 ],\n",
       "       [5.73666003],\n",
       "       [5.60899679],\n",
       "       [4.05602327],\n",
       "       [5.17209932],\n",
       "       [5.05393904],\n",
       "       [4.33067044],\n",
       "       [5.66132369],\n",
       "       [5.33485683],\n",
       "       [4.75581937],\n",
       "       [5.26664333],\n",
       "       [5.02266612],\n",
       "       [5.05939947],\n",
       "       [5.0613919 ],\n",
       "       [4.73648178],\n",
       "       [4.59542121],\n",
       "       [4.19888946],\n",
       "       [4.52900707],\n",
       "       [4.5210959 ],\n",
       "       [3.80654358],\n",
       "       [5.18772487],\n",
       "       [4.84472908],\n",
       "       [4.347152  ],\n",
       "       [4.8188024 ],\n",
       "       [4.24280372],\n",
       "       [4.88209066],\n",
       "       [4.81031129],\n",
       "       [5.26648012],\n",
       "       [5.84286064],\n",
       "       [4.79998574],\n",
       "       [5.36283695],\n",
       "       [4.58259657],\n",
       "       [4.22612077],\n",
       "       [4.39161463],\n",
       "       [4.15556089],\n",
       "       [4.32367509],\n",
       "       [4.72389384],\n",
       "       [3.94403051],\n",
       "       [3.90710492],\n",
       "       [3.68426578],\n",
       "       [4.35308898],\n",
       "       [3.58540737],\n",
       "       [4.98012331],\n",
       "       [4.78966685],\n",
       "       [4.46800768],\n",
       "       [4.0537185 ],\n",
       "       [3.96017824],\n",
       "       [3.72693953],\n",
       "       [3.63256262],\n",
       "       [4.35935775],\n",
       "       [3.85500823],\n",
       "       [3.85669636],\n",
       "       [4.33066603],\n",
       "       [3.89399551],\n",
       "       [3.91370922],\n",
       "       [5.36632627],\n",
       "       [3.42379962],\n",
       "       [3.16398486],\n",
       "       [3.63681298],\n",
       "       [4.0903415 ],\n",
       "       [4.76510073],\n",
       "       [4.59368078],\n",
       "       [3.2270828 ],\n",
       "       [2.99688768],\n",
       "       [2.47146853]])"
      ]
     },
     "execution_count": 95,
     "metadata": {},
     "output_type": "execute_result"
    }
   ],
   "source": [
    "model.predict(X)"
   ]
  },
  {
   "cell_type": "markdown",
   "metadata": {},
   "source": [
    "Trainning Score >Testing Score"
   ]
  },
  {
   "cell_type": "code",
   "execution_count": 96,
   "metadata": {},
   "outputs": [
    {
     "data": {
      "text/plain": [
       "Text(0.5, 1.0, 'Residual Plot')"
      ]
     },
     "execution_count": 96,
     "metadata": {},
     "output_type": "execute_result"
    },
    {
     "data": {
      "image/png": "[encoded data removed]",
      "text/plain": [
       "<Figure size 432x288 with 1 Axes>"
      ]
     },
     "metadata": {
      "needs_background": "light"
     },
     "output_type": "display_data"
    }
   ],
   "source": [
    "# Plot the Residuals for the Training and Testing data\n",
    "\n",
    "plt.scatter(model.predict(X_train), model.predict(X_train) - y_train, c=\"blue\", label=\"Training Data\")\n",
    "plt.scatter(model.predict(X_test), model.predict(X_test) - y_test, c=\"orange\", label=\"Testing Data\")\n",
    "plt.legend()\n",
    "plt.hlines(y=0, xmin=y.min(), xmax=y.max())\n",
    "plt.title(\"Residual Plot\")"
   ]
  },
  {
   "cell_type": "markdown",
   "metadata": {},
   "source": [
    "# Actual vs Prediction"
   ]
  },
  {
   "cell_type": "code",
   "execution_count": 97,
   "metadata": {},
   "outputs": [
    {
     "name": "stderr",
     "output_type": "stream",
     "text": [
      "C:\\Users\\Lan\\.conda\\envs\\PythonData\\lib\\site-packages\\ipykernel_launcher.py:2: FutureWarning:\n",
      "\n",
      "Support for multi-dimensional indexing (e.g. `obj[:, None]`) is deprecated and will be removed in a future version.  Convert to a numpy array before indexing instead.\n",
      "\n"
     ]
    },
    {
     "data": {
      "application/vnd.plotly.v1+json": {
       "config": {
        "plotlyServerURL": "https://plot.ly"
       },
       "data": [
        {
         "mode": "markers",
         "name": "train",
         "type": "scatter",
         "x": [
          15.81,
          21.16,
          25,
          30.14,
          15.53,
          16.47,
          32.83,
          10.33,
          28.97,
          15.38,
          10.51,
          24.59,
          14.31,
          13.81,
          18.64,
          34.81,
          16.45,
          13.37,
          18.26,
          8.51,
          11.59,
          16.04,
          18.43,
          23.68,
          17.26,
          19.82,
          9.55,
          7.74,
          20.29,
          38.01,
          34.63,
          28.17,
          20.65,
          45.35,
          22.82,
          25.56,
          35.83,
          19.44,
          10.29,
          15.95,
          12.74,
          19.08,
          13.03,
          10.27,
          14.15,
          31.85,
          8.52,
          17.46,
          14.83,
          12.69,
          12.54,
          13.42,
          17.92,
          16.21,
          22.23,
          20.76,
          29.03,
          21.5,
          50.81,
          11.02,
          15.69,
          16.49,
          21.01,
          48.27,
          7.51,
          20.45,
          9.68,
          19.81,
          13.16,
          19.77,
          38.07,
          26.59,
          21.01,
          24.55,
          16.32,
          16.43,
          10.77,
          23.95,
          16.99,
          22.75,
          40.17,
          15.01,
          18.04,
          28.55,
          34.83,
          22.67,
          34.3,
          39.42,
          12.9,
          27.05,
          22.76,
          11.35,
          20.27,
          10.34,
          17.82,
          8.77,
          20.23,
          15.98,
          13.42,
          13.28,
          40.55,
          38.73,
          13,
          20.9,
          22.49,
          13.27,
          35.26,
          24.08,
          44.3,
          24.06,
          26.41,
          10.63,
          20.08,
          10.34,
          11.69,
          16.58,
          13.94,
          15.36,
          11.17,
          10.07,
          16.29,
          18.69,
          12.26,
          9.94,
          17.51,
          30.46,
          11.38,
          17.78,
          21.7,
          23.17,
          25.71,
          13.81,
          13.13,
          18.35,
          18.71,
          14.52,
          20.69,
          24.01,
          10.09,
          15.06,
          31.71,
          41.19,
          20.53,
          11.87,
          19.65,
          14.48,
          12.46,
          10.07,
          27.18,
          32.9,
          17.29,
          43.11,
          24.27,
          17.31,
          9.78,
          12.6,
          26.86,
          27.2,
          17.81,
          24.52,
          16.66,
          22.12,
          16.82,
          11.61,
          31.27,
          15.48,
          11.24,
          17.47,
          24.71,
          28.15,
          12.02,
          18.28,
          16.31,
          20.29,
          25.89,
          14.78,
          22.42,
          7.56,
          3.07,
          28.44,
          10.65,
          32.4,
          7.25
         ],
         "y": [
          3.16,
          3,
          3.75,
          3.09,
          3,
          3.23,
          1.17,
          1.67,
          3,
          3,
          1.25,
          3.61,
          4,
          2,
          1.36,
          5.2,
          2.47,
          2,
          3.25,
          1.25,
          1.5,
          2.24,
          3,
          3.31,
          2.74,
          3.18,
          1.45,
          1.44,
          3.21,
          3,
          3.55,
          6.5,
          3.35,
          3.5,
          2.18,
          4.34,
          4.67,
          3,
          2.6,
          2,
          2.01,
          1.5,
          2,
          1.71,
          2,
          3.18,
          1.48,
          2.54,
          3.02,
          2,
          2.5,
          3.48,
          4.08,
          2,
          5,
          2.24,
          5.92,
          3.5,
          10,
          1.98,
          1.5,
          2,
          3.5,
          6.73,
          2,
          3,
          1.32,
          4.19,
          2.75,
          2,
          4,
          3.41,
          3,
          2,
          4.3,
          2.3,
          1.47,
          2.55,
          1.01,
          3.25,
          4.73,
          2.09,
          3,
          2.05,
          5.17,
          2,
          6.7,
          7.58,
          1.1,
          5,
          3,
          2.5,
          2.83,
          2,
          1.75,
          2,
          2.01,
          2.03,
          1.68,
          2.72,
          3,
          3,
          2,
          3.5,
          3.5,
          2.5,
          5,
          2.92,
          2.5,
          3.6,
          1.5,
          2,
          3.15,
          1.66,
          2.31,
          4,
          3.06,
          1.64,
          1.5,
          1.25,
          3.71,
          2.31,
          2,
          1.56,
          3,
          2,
          2,
          3.27,
          4.3,
          6.5,
          4,
          2,
          2,
          2.5,
          4,
          2,
          5,
          2,
          2,
          3,
          4.5,
          5,
          4,
          1.63,
          3,
          2,
          1.5,
          1.83,
          2,
          3.11,
          2.71,
          5,
          2.03,
          3.5,
          1.73,
          1,
          3.14,
          4,
          2.34,
          3.48,
          3.4,
          2.88,
          4,
          3.39,
          5,
          2.02,
          1.76,
          3.5,
          5.85,
          3,
          1.97,
          4,
          2,
          2.75,
          5.16,
          3.23,
          3.48,
          1.44,
          1,
          2.56,
          1.5,
          6,
          5.15
         ]
        },
        {
         "mode": "markers",
         "name": "test",
         "type": "scatter",
         "x": [
          17.59,
          18.29,
          19.49,
          7.25,
          16.27,
          5.75,
          17.92,
          23.33,
          18.15,
          34.65,
          25.28,
          25.21,
          14.07,
          13,
          13.42,
          30.4,
          8.35,
          14,
          18.78,
          23.1,
          30.06,
          20.92,
          16,
          15.04,
          13.51,
          16.4,
          12.16,
          29.8,
          25.29,
          15.77,
          14.73,
          12.48,
          15.42,
          10.59,
          18.29,
          13.39,
          16.93,
          10.33,
          48.33,
          15.98,
          8.58,
          12.43,
          15.69,
          29.85,
          12.76,
          16.97,
          18.24,
          21.58,
          17.07,
          26.88,
          32.68,
          17.89,
          20.49,
          48.17,
          9.6,
          12.03,
          29.93,
          20.69,
          14.26,
          12.66,
          27.28
         ],
         "y": [
          2.64,
          3.76,
          3.51,
          1,
          2.5,
          1,
          3.08,
          5.65,
          3.5,
          3.68,
          5,
          4.29,
          2.5,
          2,
          1.58,
          5.6,
          1.5,
          3,
          3,
          4,
          2,
          4.08,
          2,
          1.96,
          2,
          2.5,
          2.2,
          4.2,
          4.71,
          2.23,
          2.2,
          2.52,
          1.57,
          1.61,
          3,
          2.61,
          3.07,
          2,
          9,
          3,
          1.92,
          1.8,
          3,
          5.14,
          2.23,
          3.5,
          3.76,
          3.92,
          3,
          3.12,
          5,
          2,
          4.06,
          5,
          4,
          1.5,
          5.07,
          2.45,
          2.5,
          2.5,
          4
         ]
        },
        {
         "name": "prediction",
         "type": "scatter",
         "x": [
          3.07,
          3.552222222222222,
          4.0344444444444445,
          4.516666666666667,
          4.998888888888889,
          5.481111111111111,
          5.963333333333333,
          6.445555555555556,
          6.927777777777777,
          7.41,
          7.892222222222221,
          8.374444444444444,
          8.856666666666667,
          9.338888888888889,
          9.821111111111112,
          10.303333333333333,
          10.785555555555556,
          11.267777777777779,
          11.75,
          12.232222222222223,
          12.714444444444444,
          13.196666666666667,
          13.678888888888888,
          14.161111111111111,
          14.643333333333334,
          15.125555555555556,
          15.607777777777779,
          16.09,
          16.572222222222223,
          17.054444444444442,
          17.536666666666665,
          18.01888888888889,
          18.50111111111111,
          18.983333333333334,
          19.465555555555557,
          19.947777777777777,
          20.43,
          20.912222222222223,
          21.394444444444446,
          21.876666666666665,
          22.358888888888888,
          22.84111111111111,
          23.323333333333334,
          23.805555555555557,
          24.287777777777777,
          24.77,
          25.252222222222223,
          25.734444444444446,
          26.21666666666667,
          26.698888888888888,
          27.18111111111111,
          27.663333333333334,
          28.145555555555557,
          28.627777777777776,
          29.11,
          29.592222222222222,
          30.074444444444445,
          30.55666666666667,
          31.038888888888888,
          31.52111111111111,
          32.00333333333333,
          32.48555555555556,
          32.967777777777776,
          33.449999999999996,
          33.93222222222222,
          34.41444444444444,
          34.89666666666667,
          35.37888888888889,
          35.861111111111114,
          36.343333333333334,
          36.82555555555555,
          37.30777777777778,
          37.79,
          38.272222222222226,
          38.754444444444445,
          39.236666666666665,
          39.71888888888889,
          40.20111111111111,
          40.68333333333333,
          41.16555555555556,
          41.647777777777776,
          42.13,
          42.61222222222222,
          43.09444444444444,
          43.57666666666667,
          44.05888888888889,
          44.541111111111114,
          45.02333333333333,
          45.50555555555555,
          45.98777777777778,
          46.47,
          46.952222222222225,
          47.434444444444445,
          47.916666666666664,
          48.39888888888889,
          48.88111111111111,
          49.36333333333334,
          49.845555555555556,
          50.327777777777776,
          50.81
         ],
         "y": [
          1.2947022585381707,
          1.3419114968621937,
          1.3891207351862167,
          1.4363299735102397,
          1.4835392118342625,
          1.5307484501582858,
          1.5779576884823086,
          1.6251669268063318,
          1.6723761651303546,
          1.7195854034543778,
          1.7667946417784006,
          1.8140038801024239,
          1.8612131184264467,
          1.9084223567504697,
          1.9556315950744927,
          2.0028408333985155,
          2.0500500717225387,
          2.097259310046562,
          2.1444685483705848,
          2.1916777866946076,
          2.238887025018631,
          2.286096263342654,
          2.333305501666677,
          2.3805147399906996,
          2.427723978314723,
          2.474933216638746,
          2.522142454962769,
          2.5693516932867917,
          2.616560931610815,
          2.6637701699348377,
          2.7109794082588605,
          2.7581886465828838,
          2.805397884906907,
          2.8526071232309302,
          2.899816361554953,
          2.947025599878976,
          2.994234838202999,
          3.041444076527022,
          3.088653314851045,
          3.135862553175068,
          3.1830717914990907,
          3.230281029823114,
          3.277490268147137,
          3.32469950647116,
          3.3719087447951828,
          3.419117983119206,
          3.466327221443229,
          3.513536459767252,
          3.5607456980912753,
          3.607954936415298,
          3.655164174739321,
          3.702373413063344,
          3.7495826513873673,
          3.7967918897113897,
          3.844001128035413,
          3.891210366359436,
          3.938419604683459,
          3.985628843007482,
          4.032838081331505,
          4.080047319655527,
          4.127256557979551,
          4.174465796303574,
          4.221675034627597,
          4.26888427295162,
          4.316093511275643,
          4.363302749599666,
          4.410511987923689,
          4.4577212262477115,
          4.504930464571736,
          4.552139702895758,
          4.59934894121978,
          4.6465581795438045,
          4.693767417867827,
          4.740976656191851,
          4.788185894515873,
          4.835395132839896,
          4.88260437116392,
          4.929813609487942,
          4.9770228478119645,
          5.024232086135989,
          5.071441324460011,
          5.118650562784035,
          5.165859801108057,
          5.21306903943208,
          5.260278277756104,
          5.307487516080126,
          5.35469675440415,
          5.401905992728173,
          5.449115231052195,
          5.496324469376219,
          5.543533707700242,
          5.590742946024264,
          5.637952184348288,
          5.68516142267231,
          5.732370660996333,
          5.779579899320357,
          5.826789137644379,
          5.873998375968402,
          5.921207614292426,
          5.968416852616448
         ]
        }
       ],
       "layout": {
        "template": {
         "data": {
          "bar": [
           {
            "error_x": {
             "color": "#2a3f5f"
            },
            "error_y": {
             "color": "#2a3f5f"
            },
            "marker": {
             "line": {
              "color": "#E5ECF6",
              "width": 0.5
             }
            },
            "type": "bar"
           }
          ],
          "barpolar": [
           {
            "marker": {
             "line": {
              "color": "#E5ECF6",
              "width": 0.5
             }
            },
            "type": "barpolar"
           }
          ],
          "carpet": [
           {
            "aaxis": {
             "endlinecolor": "#2a3f5f",
             "gridcolor": "white",
             "linecolor": "white",
             "minorgridcolor": "white",
             "startlinecolor": "#2a3f5f"
            },
            "baxis": {
             "endlinecolor": "#2a3f5f",
             "gridcolor": "white",
             "linecolor": "white",
             "minorgridcolor": "white",
             "startlinecolor": "#2a3f5f"
            },
            "type": "carpet"
           }
          ],
          "choropleth": [
           {
            "colorbar": {
             "outlinewidth": 0,
             "ticks": ""
            },
            "type": "choropleth"
           }
          ],
          "contour": [
           {
            "colorbar": {
             "outlinewidth": 0,
             "ticks": ""
            },
            "colorscale": [
             [
              0,
              "#0d0887"
             ],
             [
              0.1111111111111111,
              "#46039f"
             ],
             [
              0.2222222222222222,
              "#7201a8"
             ],
             [
              0.3333333333333333,
              "#9c179e"
             ],
             [
              0.4444444444444444,
              "#bd3786"
             ],
             [
              0.5555555555555556,
              "#d8576b"
             ],
             [
              0.6666666666666666,
              "#ed7953"
             ],
             [
              0.7777777777777778,
              "#fb9f3a"
             ],
             [
              0.8888888888888888,
              "#fdca26"
             ],
             [
              1,
              "#f0f921"
             ]
            ],
            "type": "contour"
           }
          ],
          "contourcarpet": [
           {
            "colorbar": {
             "outlinewidth": 0,
             "ticks": ""
            },
            "type": "contourcarpet"
           }
          ],
          "heatmap": [
           {
            "colorbar": {
             "outlinewidth": 0,
             "ticks": ""
            },
            "colorscale": [
             [
              0,
              "#0d0887"
             ],
             [
              0.1111111111111111,
              "#46039f"
             ],
             [
              0.2222222222222222,
              "#7201a8"
             ],
             [
              0.3333333333333333,
              "#9c179e"
             ],
             [
              0.4444444444444444,
              "#bd3786"
             ],
             [
              0.5555555555555556,
              "#d8576b"
             ],
             [
              0.6666666666666666,
              "#ed7953"
             ],
             [
              0.7777777777777778,
              "#fb9f3a"
             ],
             [
              0.8888888888888888,
              "#fdca26"
             ],
             [
              1,
              "#f0f921"
             ]
            ],
            "type": "heatmap"
           }
          ],
          "heatmapgl": [
           {
            "colorbar": {
             "outlinewidth": 0,
             "ticks": ""
            },
            "colorscale": [
             [
              0,
              "#0d0887"
             ],
             [
              0.1111111111111111,
              "#46039f"
             ],
             [
              0.2222222222222222,
              "#7201a8"
             ],
             [
              0.3333333333333333,
              "#9c179e"
             ],
             [
              0.4444444444444444,
              "#bd3786"
             ],
             [
              0.5555555555555556,
              "#d8576b"
             ],
             [
              0.6666666666666666,
              "#ed7953"
             ],
             [
              0.7777777777777778,
              "#fb9f3a"
             ],
             [
              0.8888888888888888,
              "#fdca26"
             ],
             [
              1,
              "#f0f921"
             ]
            ],
            "type": "heatmapgl"
           }
          ],
          "histogram": [
           {
            "marker": {
             "colorbar": {
              "outlinewidth": 0,
              "ticks": ""
             }
            },
            "type": "histogram"
           }
          ],
          "histogram2d": [
           {
            "colorbar": {
             "outlinewidth": 0,
             "ticks": ""
            },
            "colorscale": [
             [
              0,
              "#0d0887"
             ],
             [
              0.1111111111111111,
              "#46039f"
             ],
             [
              0.2222222222222222,
              "#7201a8"
             ],
             [
              0.3333333333333333,
              "#9c179e"
             ],
             [
              0.4444444444444444,
              "#bd3786"
             ],
             [
              0.5555555555555556,
              "#d8576b"
             ],
             [
              0.6666666666666666,
              "#ed7953"
             ],
             [
              0.7777777777777778,
              "#fb9f3a"
             ],
             [
              0.8888888888888888,
              "#fdca26"
             ],
             [
              1,
              "#f0f921"
             ]
            ],
            "type": "histogram2d"
           }
          ],
          "histogram2dcontour": [
           {
            "colorbar": {
             "outlinewidth": 0,
             "ticks": ""
            },
            "colorscale": [
             [
              0,
              "#0d0887"
             ],
             [
              0.1111111111111111,
              "#46039f"
             ],
             [
              0.2222222222222222,
              "#7201a8"
             ],
             [
              0.3333333333333333,
              "#9c179e"
             ],
             [
              0.4444444444444444,
              "#bd3786"
             ],
             [
              0.5555555555555556,
              "#d8576b"
             ],
             [
              0.6666666666666666,
              "#ed7953"
             ],
             [
              0.7777777777777778,
              "#fb9f3a"
             ],
             [
              0.8888888888888888,
              "#fdca26"
             ],
             [
              1,
              "#f0f921"
             ]
            ],
            "type": "histogram2dcontour"
           }
          ],
          "mesh3d": [
           {
            "colorbar": {
             "outlinewidth": 0,
             "ticks": ""
            },
            "type": "mesh3d"
           }
          ],
          "parcoords": [
           {
            "line": {
             "colorbar": {
              "outlinewidth": 0,
              "ticks": ""
             }
            },
            "type": "parcoords"
           }
          ],
          "pie": [
           {
            "automargin": true,
            "type": "pie"
           }
          ],
          "scatter": [
           {
            "marker": {
             "colorbar": {
              "outlinewidth": 0,
              "ticks": ""
             }
            },
            "type": "scatter"
           }
          ],
          "scatter3d": [
           {
            "line": {
             "colorbar": {
              "outlinewidth": 0,
              "ticks": ""
             }
            },
            "marker": {
             "colorbar": {
              "outlinewidth": 0,
              "ticks": ""
             }
            },
            "type": "scatter3d"
           }
          ],
          "scattercarpet": [
           {
            "marker": {
             "colorbar": {
              "outlinewidth": 0,
              "ticks": ""
             }
            },
            "type": "scattercarpet"
           }
          ],
          "scattergeo": [
           {
            "marker": {
             "colorbar": {
              "outlinewidth": 0,
              "ticks": ""
             }
            },
            "type": "scattergeo"
           }
          ],
          "scattergl": [
           {
            "marker": {
             "colorbar": {
              "outlinewidth": 0,
              "ticks": ""
             }
            },
            "type": "scattergl"
           }
          ],
          "scattermapbox": [
           {
            "marker": {
             "colorbar": {
              "outlinewidth": 0,
              "ticks": ""
             }
            },
            "type": "scattermapbox"
           }
          ],
          "scatterpolar": [
           {
            "marker": {
             "colorbar": {
              "outlinewidth": 0,
              "ticks": ""
             }
            },
            "type": "scatterpolar"
           }
          ],
          "scatterpolargl": [
           {
            "marker": {
             "colorbar": {
              "outlinewidth": 0,
              "ticks": ""
             }
            },
            "type": "scatterpolargl"
           }
          ],
          "scatterternary": [
           {
            "marker": {
             "colorbar": {
              "outlinewidth": 0,
              "ticks": ""
             }
            },
            "type": "scatterternary"
           }
          ],
          "surface": [
           {
            "colorbar": {
             "outlinewidth": 0,
             "ticks": ""
            },
            "colorscale": [
             [
              0,
              "#0d0887"
             ],
             [
              0.1111111111111111,
              "#46039f"
             ],
             [
              0.2222222222222222,
              "#7201a8"
             ],
             [
              0.3333333333333333,
              "#9c179e"
             ],
             [
              0.4444444444444444,
              "#bd3786"
             ],
             [
              0.5555555555555556,
              "#d8576b"
             ],
             [
              0.6666666666666666,
              "#ed7953"
             ],
             [
              0.7777777777777778,
              "#fb9f3a"
             ],
             [
              0.8888888888888888,
              "#fdca26"
             ],
             [
              1,
              "#f0f921"
             ]
            ],
            "type": "surface"
           }
          ],
          "table": [
           {
            "cells": {
             "fill": {
              "color": "#EBF0F8"
             },
             "line": {
              "color": "white"
             }
            },
            "header": {
             "fill": {
              "color": "#C8D4E3"
             },
             "line": {
              "color": "white"
             }
            },
            "type": "table"
           }
          ]
         },
         "layout": {
          "annotationdefaults": {
           "arrowcolor": "#2a3f5f",
           "arrowhead": 0,
           "arrowwidth": 1
          },
          "autotypenumbers": "strict",
          "coloraxis": {
           "colorbar": {
            "outlinewidth": 0,
            "ticks": ""
           }
          },
          "colorscale": {
           "diverging": [
            [
             0,
             "#8e0152"
            ],
            [
             0.1,
             "#c51b7d"
            ],
            [
             0.2,
             "#de77ae"
            ],
            [
             0.3,
             "#f1b6da"
            ],
            [
             0.4,
             "#fde0ef"
            ],
            [
             0.5,
             "#f7f7f7"
            ],
            [
             0.6,
             "#e6f5d0"
            ],
            [
             0.7,
             "#b8e186"
            ],
            [
             0.8,
             "#7fbc41"
            ],
            [
             0.9,
             "#4d9221"
            ],
            [
             1,
             "#276419"
            ]
           ],
           "sequential": [
            [
             0,
             "#0d0887"
            ],
            [
             0.1111111111111111,
             "#46039f"
            ],
            [
             0.2222222222222222,
             "#7201a8"
            ],
            [
             0.3333333333333333,
             "#9c179e"
            ],
            [
             0.4444444444444444,
             "#bd3786"
            ],
            [
             0.5555555555555556,
             "#d8576b"
            ],
            [
             0.6666666666666666,
             "#ed7953"
            ],
            [
             0.7777777777777778,
             "#fb9f3a"
            ],
            [
             0.8888888888888888,
             "#fdca26"
            ],
            [
             1,
             "#f0f921"
            ]
           ],
           "sequentialminus": [
            [
             0,
             "#0d0887"
            ],
            [
             0.1111111111111111,
             "#46039f"
            ],
            [
             0.2222222222222222,
             "#7201a8"
            ],
            [
             0.3333333333333333,
             "#9c179e"
            ],
            [
             0.4444444444444444,
             "#bd3786"
            ],
            [
             0.5555555555555556,
             "#d8576b"
            ],
            [
             0.6666666666666666,
             "#ed7953"
            ],
            [
             0.7777777777777778,
             "#fb9f3a"
            ],
            [
             0.8888888888888888,
             "#fdca26"
            ],
            [
             1,
             "#f0f921"
            ]
           ]
          },
          "colorway": [
           "#636efa",
           "#EF553B",
           "#00cc96",
           "#ab63fa",
           "#FFA15A",
           "#19d3f3",
           "#FF6692",
           "#B6E880",
           "#FF97FF",
           "#FECB52"
          ],
          "font": {
           "color": "#2a3f5f"
          },
          "geo": {
           "bgcolor": "white",
           "lakecolor": "white",
           "landcolor": "#E5ECF6",
           "showlakes": true,
           "showland": true,
           "subunitcolor": "white"
          },
          "hoverlabel": {
           "align": "left"
          },
          "hovermode": "closest",
          "mapbox": {
           "style": "light"
          },
          "paper_bgcolor": "white",
          "plot_bgcolor": "#E5ECF6",
          "polar": {
           "angularaxis": {
            "gridcolor": "white",
            "linecolor": "white",
            "ticks": ""
           },
           "bgcolor": "#E5ECF6",
           "radialaxis": {
            "gridcolor": "white",
            "linecolor": "white",
            "ticks": ""
           }
          },
          "scene": {
           "xaxis": {
            "backgroundcolor": "#E5ECF6",
            "gridcolor": "white",
            "gridwidth": 2,
            "linecolor": "white",
            "showbackground": true,
            "ticks": "",
            "zerolinecolor": "white"
           },
           "yaxis": {
            "backgroundcolor": "#E5ECF6",
            "gridcolor": "white",
            "gridwidth": 2,
            "linecolor": "white",
            "showbackground": true,
            "ticks": "",
            "zerolinecolor": "white"
           },
           "zaxis": {
            "backgroundcolor": "#E5ECF6",
            "gridcolor": "white",
            "gridwidth": 2,
            "linecolor": "white",
            "showbackground": true,
            "ticks": "",
            "zerolinecolor": "white"
           }
          },
          "shapedefaults": {
           "line": {
            "color": "#2a3f5f"
           }
          },
          "ternary": {
           "aaxis": {
            "gridcolor": "white",
            "linecolor": "white",
            "ticks": ""
           },
           "baxis": {
            "gridcolor": "white",
            "linecolor": "white",
            "ticks": ""
           },
           "bgcolor": "#E5ECF6",
           "caxis": {
            "gridcolor": "white",
            "linecolor": "white",
            "ticks": ""
           }
          },
          "title": {
           "x": 0.05
          },
          "xaxis": {
           "automargin": true,
           "gridcolor": "white",
           "linecolor": "white",
           "ticks": "",
           "title": {
            "standoff": 15
           },
           "zerolinecolor": "white",
           "zerolinewidth": 2
          },
          "yaxis": {
           "automargin": true,
           "gridcolor": "white",
           "linecolor": "white",
           "ticks": "",
           "title": {
            "standoff": 15
           },
           "zerolinecolor": "white",
           "zerolinewidth": 2
          }
         }
        }
       }
      },
      "text/html": [
       "<div>                            <div id=\"cf31e4dc-ec0f-4c1c-90ad-e7cefcd89d23\" class=\"plotly-graph-div\" style=\"height:525px; width:100%;\"></div>            <script type=\"text/javascript\">                require([\"plotly\"], function(Plotly) {                    window.PLOTLYENV=window.PLOTLYENV || {};                                    if (document.getElementById(\"cf31e4dc-ec0f-4c1c-90ad-e7cefcd89d23\")) {                    Plotly.newPlot(                        \"cf31e4dc-ec0f-4c1c-90ad-e7cefcd89d23\",                        [{\"mode\": \"markers\", \"name\": \"train\", \"type\": \"scatter\", \"x\": [15.81, 21.16, 25.0, 30.14, 15.53, 16.47, 32.83, 10.33, 28.97, 15.38, 10.51, 24.59, 14.31, 13.81, 18.64, 34.81, 16.45, 13.37, 18.26, 8.51, 11.59, 16.04, 18.43, 23.68, 17.26, 19.82, 9.55, 7.74, 20.29, 38.01, 34.63, 28.17, 20.65, 45.35, 22.82, 25.56, 35.83, 19.44, 10.29, 15.95, 12.74, 19.08, 13.03, 10.27, 14.15, 31.85, 8.52, 17.46, 14.83, 12.69, 12.54, 13.42, 17.92, 16.21, 22.23, 20.76, 29.03, 21.5, 50.81, 11.02, 15.69, 16.49, 21.01, 48.27, 7.51, 20.45, 9.68, 19.81, 13.16, 19.77, 38.07, 26.59, 21.01, 24.55, 16.32, 16.43, 10.77, 23.95, 16.99, 22.75, 40.17, 15.01, 18.04, 28.55, 34.83, 22.67, 34.3, 39.42, 12.9, 27.05, 22.76, 11.35, 20.27, 10.34, 17.82, 8.77, 20.23, 15.98, 13.42, 13.28, 40.55, 38.73, 13.0, 20.9, 22.49, 13.27, 35.26, 24.08, 44.3, 24.06, 26.41, 10.63, 20.08, 10.34, 11.69, 16.58, 13.94, 15.36, 11.17, 10.07, 16.29, 18.69, 12.26, 9.94, 17.51, 30.46, 11.38, 17.78, 21.7, 23.17, 25.71, 13.81, 13.13, 18.35, 18.71, 14.52, 20.69, 24.01, 10.09, 15.06, 31.71, 41.19, 20.53, 11.87, 19.65, 14.48, 12.46, 10.07, 27.18, 32.9, 17.29, 43.11, 24.27, 17.31, 9.78, 12.6, 26.86, 27.2, 17.81, 24.52, 16.66, 22.12, 16.82, 11.61, 31.27, 15.48, 11.24, 17.47, 24.71, 28.15, 12.02, 18.28, 16.31, 20.29, 25.89, 14.78, 22.42, 7.56, 3.07, 28.44, 10.65, 32.4, 7.25], \"y\": [3.16, 3.0, 3.75, 3.09, 3.0, 3.23, 1.17, 1.67, 3.0, 3.0, 1.25, 3.61, 4.0, 2.0, 1.36, 5.2, 2.47, 2.0, 3.25, 1.25, 1.5, 2.24, 3.0, 3.31, 2.74, 3.18, 1.45, 1.44, 3.21, 3.0, 3.55, 6.5, 3.35, 3.5, 2.18, 4.34, 4.67, 3.0, 2.6, 2.0, 2.01, 1.5, 2.0, 1.71, 2.0, 3.18, 1.48, 2.54, 3.02, 2.0, 2.5, 3.48, 4.08, 2.0, 5.0, 2.24, 5.92, 3.5, 10.0, 1.98, 1.5, 2.0, 3.5, 6.73, 2.0, 3.0, 1.32, 4.19, 2.75, 2.0, 4.0, 3.41, 3.0, 2.0, 4.3, 2.3, 1.47, 2.55, 1.01, 3.25, 4.73, 2.09, 3.0, 2.05, 5.17, 2.0, 6.7, 7.58, 1.1, 5.0, 3.0, 2.5, 2.83, 2.0, 1.75, 2.0, 2.01, 2.03, 1.68, 2.72, 3.0, 3.0, 2.0, 3.5, 3.5, 2.5, 5.0, 2.92, 2.5, 3.6, 1.5, 2.0, 3.15, 1.66, 2.31, 4.0, 3.06, 1.64, 1.5, 1.25, 3.71, 2.31, 2.0, 1.56, 3.0, 2.0, 2.0, 3.27, 4.3, 6.5, 4.0, 2.0, 2.0, 2.5, 4.0, 2.0, 5.0, 2.0, 2.0, 3.0, 4.5, 5.0, 4.0, 1.63, 3.0, 2.0, 1.5, 1.83, 2.0, 3.11, 2.71, 5.0, 2.03, 3.5, 1.73, 1.0, 3.14, 4.0, 2.34, 3.48, 3.4, 2.88, 4.0, 3.39, 5.0, 2.02, 1.76, 3.5, 5.85, 3.0, 1.97, 4.0, 2.0, 2.75, 5.16, 3.23, 3.48, 1.44, 1.0, 2.56, 1.5, 6.0, 5.15]}, {\"mode\": \"markers\", \"name\": \"test\", \"type\": \"scatter\", \"x\": [17.59, 18.29, 19.49, 7.25, 16.27, 5.75, 17.92, 23.33, 18.15, 34.65, 25.28, 25.21, 14.07, 13.0, 13.42, 30.4, 8.35, 14.0, 18.78, 23.1, 30.06, 20.92, 16.0, 15.04, 13.51, 16.4, 12.16, 29.8, 25.29, 15.77, 14.73, 12.48, 15.42, 10.59, 18.29, 13.39, 16.93, 10.33, 48.33, 15.98, 8.58, 12.43, 15.69, 29.85, 12.76, 16.97, 18.24, 21.58, 17.07, 26.88, 32.68, 17.89, 20.49, 48.17, 9.6, 12.03, 29.93, 20.69, 14.26, 12.66, 27.28], \"y\": [2.64, 3.76, 3.51, 1.0, 2.5, 1.0, 3.08, 5.65, 3.5, 3.68, 5.0, 4.29, 2.5, 2.0, 1.58, 5.6, 1.5, 3.0, 3.0, 4.0, 2.0, 4.08, 2.0, 1.96, 2.0, 2.5, 2.2, 4.2, 4.71, 2.23, 2.2, 2.52, 1.57, 1.61, 3.0, 2.61, 3.07, 2.0, 9.0, 3.0, 1.92, 1.8, 3.0, 5.14, 2.23, 3.5, 3.76, 3.92, 3.0, 3.12, 5.0, 2.0, 4.06, 5.0, 4.0, 1.5, 5.07, 2.45, 2.5, 2.5, 4.0]}, {\"name\": \"prediction\", \"type\": \"scatter\", \"x\": [3.07, 3.552222222222222, 4.0344444444444445, 4.516666666666667, 4.998888888888889, 5.481111111111111, 5.963333333333333, 6.445555555555556, 6.927777777777777, 7.41, 7.892222222222221, 8.374444444444444, 8.856666666666667, 9.338888888888889, 9.821111111111112, 10.303333333333333, 10.785555555555556, 11.267777777777779, 11.75, 12.232222222222223, 12.714444444444444, 13.196666666666667, 13.678888888888888, 14.161111111111111, 14.643333333333334, 15.125555555555556, 15.607777777777779, 16.09, 16.572222222222223, 17.054444444444442, 17.536666666666665, 18.01888888888889, 18.50111111111111, 18.983333333333334, 19.465555555555557, 19.947777777777777, 20.43, 20.912222222222223, 21.394444444444446, 21.876666666666665, 22.358888888888888, 22.84111111111111, 23.323333333333334, 23.805555555555557, 24.287777777777777, 24.77, 25.252222222222223, 25.734444444444446, 26.21666666666667, 26.698888888888888, 27.18111111111111, 27.663333333333334, 28.145555555555557, 28.627777777777776, 29.11, 29.592222222222222, 30.074444444444445, 30.55666666666667, 31.038888888888888, 31.52111111111111, 32.00333333333333, 32.48555555555556, 32.967777777777776, 33.449999999999996, 33.93222222222222, 34.41444444444444, 34.89666666666667, 35.37888888888889, 35.861111111111114, 36.343333333333334, 36.82555555555555, 37.30777777777778, 37.79, 38.272222222222226, 38.754444444444445, 39.236666666666665, 39.71888888888889, 40.20111111111111, 40.68333333333333, 41.16555555555556, 41.647777777777776, 42.13, 42.61222222222222, 43.09444444444444, 43.57666666666667, 44.05888888888889, 44.541111111111114, 45.02333333333333, 45.50555555555555, 45.98777777777778, 46.47, 46.952222222222225, 47.434444444444445, 47.916666666666664, 48.39888888888889, 48.88111111111111, 49.36333333333334, 49.845555555555556, 50.327777777777776, 50.81], \"y\": [1.2947022585381707, 1.3419114968621937, 1.3891207351862167, 1.4363299735102397, 1.4835392118342625, 1.5307484501582858, 1.5779576884823086, 1.6251669268063318, 1.6723761651303546, 1.7195854034543778, 1.7667946417784006, 1.8140038801024239, 1.8612131184264467, 1.9084223567504697, 1.9556315950744927, 2.0028408333985155, 2.0500500717225387, 2.097259310046562, 2.1444685483705848, 2.1916777866946076, 2.238887025018631, 2.286096263342654, 2.333305501666677, 2.3805147399906996, 2.427723978314723, 2.474933216638746, 2.522142454962769, 2.5693516932867917, 2.616560931610815, 2.6637701699348377, 2.7109794082588605, 2.7581886465828838, 2.805397884906907, 2.8526071232309302, 2.899816361554953, 2.947025599878976, 2.994234838202999, 3.041444076527022, 3.088653314851045, 3.135862553175068, 3.1830717914990907, 3.230281029823114, 3.277490268147137, 3.32469950647116, 3.3719087447951828, 3.419117983119206, 3.466327221443229, 3.513536459767252, 3.5607456980912753, 3.607954936415298, 3.655164174739321, 3.702373413063344, 3.7495826513873673, 3.7967918897113897, 3.844001128035413, 3.891210366359436, 3.938419604683459, 3.985628843007482, 4.032838081331505, 4.080047319655527, 4.127256557979551, 4.174465796303574, 4.221675034627597, 4.26888427295162, 4.316093511275643, 4.363302749599666, 4.410511987923689, 4.4577212262477115, 4.504930464571736, 4.552139702895758, 4.59934894121978, 4.6465581795438045, 4.693767417867827, 4.740976656191851, 4.788185894515873, 4.835395132839896, 4.88260437116392, 4.929813609487942, 4.9770228478119645, 5.024232086135989, 5.071441324460011, 5.118650562784035, 5.165859801108057, 5.21306903943208, 5.260278277756104, 5.307487516080126, 5.35469675440415, 5.401905992728173, 5.449115231052195, 5.496324469376219, 5.543533707700242, 5.590742946024264, 5.637952184348288, 5.68516142267231, 5.732370660996333, 5.779579899320357, 5.826789137644379, 5.873998375968402, 5.921207614292426, 5.968416852616448]}],                        {\"template\": {\"data\": {\"bar\": [{\"error_x\": {\"color\": \"#2a3f5f\"}, \"error_y\": {\"color\": \"#2a3f5f\"}, \"marker\": {\"line\": {\"color\": \"#E5ECF6\", \"width\": 0.5}}, \"type\": \"bar\"}], \"barpolar\": [{\"marker\": {\"line\": {\"color\": \"#E5ECF6\", \"width\": 0.5}}, \"type\": \"barpolar\"}], \"carpet\": [{\"aaxis\": {\"endlinecolor\": \"#2a3f5f\", \"gridcolor\": \"white\", \"linecolor\": \"white\", \"minorgridcolor\": \"white\", \"startlinecolor\": \"#2a3f5f\"}, \"baxis\": {\"endlinecolor\": \"#2a3f5f\", \"gridcolor\": \"white\", \"linecolor\": \"white\", \"minorgridcolor\": \"white\", \"startlinecolor\": \"#2a3f5f\"}, \"type\": \"carpet\"}], \"choropleth\": [{\"colorbar\": {\"outlinewidth\": 0, \"ticks\": \"\"}, \"type\": \"choropleth\"}], \"contour\": [{\"colorbar\": {\"outlinewidth\": 0, \"ticks\": \"\"}, \"colorscale\": [[0.0, \"#0d0887\"], [0.1111111111111111, \"#46039f\"], [0.2222222222222222, \"#7201a8\"], [0.3333333333333333, \"#9c179e\"], [0.4444444444444444, \"#bd3786\"], [0.5555555555555556, \"#d8576b\"], [0.6666666666666666, \"#ed7953\"], [0.7777777777777778, \"#fb9f3a\"], [0.8888888888888888, \"#fdca26\"], [1.0, \"#f0f921\"]], \"type\": \"contour\"}], \"contourcarpet\": [{\"colorbar\": {\"outlinewidth\": 0, \"ticks\": \"\"}, \"type\": \"contourcarpet\"}], \"heatmap\": [{\"colorbar\": {\"outlinewidth\": 0, \"ticks\": \"\"}, \"colorscale\": [[0.0, \"#0d0887\"], [0.1111111111111111, \"#46039f\"], [0.2222222222222222, \"#7201a8\"], [0.3333333333333333, \"#9c179e\"], [0.4444444444444444, \"#bd3786\"], [0.5555555555555556, \"#d8576b\"], [0.6666666666666666, \"#ed7953\"], [0.7777777777777778, \"#fb9f3a\"], [0.8888888888888888, \"#fdca26\"], [1.0, \"#f0f921\"]], \"type\": \"heatmap\"}], \"heatmapgl\": [{\"colorbar\": {\"outlinewidth\": 0, \"ticks\": \"\"}, \"colorscale\": [[0.0, \"#0d0887\"], [0.1111111111111111, \"#46039f\"], [0.2222222222222222, \"#7201a8\"], [0.3333333333333333, \"#9c179e\"], [0.4444444444444444, \"#bd3786\"], [0.5555555555555556, \"#d8576b\"], [0.6666666666666666, \"#ed7953\"], [0.7777777777777778, \"#fb9f3a\"], [0.8888888888888888, \"#fdca26\"], [1.0, \"#f0f921\"]], \"type\": \"heatmapgl\"}], \"histogram\": [{\"marker\": {\"colorbar\": {\"outlinewidth\": 0, \"ticks\": \"\"}}, \"type\": \"histogram\"}], \"histogram2d\": [{\"colorbar\": {\"outlinewidth\": 0, \"ticks\": \"\"}, \"colorscale\": [[0.0, \"#0d0887\"], [0.1111111111111111, \"#46039f\"], [0.2222222222222222, \"#7201a8\"], [0.3333333333333333, \"#9c179e\"], [0.4444444444444444, \"#bd3786\"], [0.5555555555555556, \"#d8576b\"], [0.6666666666666666, \"#ed7953\"], [0.7777777777777778, \"#fb9f3a\"], [0.8888888888888888, \"#fdca26\"], [1.0, \"#f0f921\"]], \"type\": \"histogram2d\"}], \"histogram2dcontour\": [{\"colorbar\": {\"outlinewidth\": 0, \"ticks\": \"\"}, \"colorscale\": [[0.0, \"#0d0887\"], [0.1111111111111111, \"#46039f\"], [0.2222222222222222, \"#7201a8\"], [0.3333333333333333, \"#9c179e\"], [0.4444444444444444, \"#bd3786\"], [0.5555555555555556, \"#d8576b\"], [0.6666666666666666, \"#ed7953\"], [0.7777777777777778, \"#fb9f3a\"], [0.8888888888888888, \"#fdca26\"], [1.0, \"#f0f921\"]], \"type\": \"histogram2dcontour\"}], \"mesh3d\": [{\"colorbar\": {\"outlinewidth\": 0, \"ticks\": \"\"}, \"type\": \"mesh3d\"}], \"parcoords\": [{\"line\": {\"colorbar\": {\"outlinewidth\": 0, \"ticks\": \"\"}}, \"type\": \"parcoords\"}], \"pie\": [{\"automargin\": true, \"type\": \"pie\"}], \"scatter\": [{\"marker\": {\"colorbar\": {\"outlinewidth\": 0, \"ticks\": \"\"}}, \"type\": \"scatter\"}], \"scatter3d\": [{\"line\": {\"colorbar\": {\"outlinewidth\": 0, \"ticks\": \"\"}}, \"marker\": {\"colorbar\": {\"outlinewidth\": 0, \"ticks\": \"\"}}, \"type\": \"scatter3d\"}], \"scattercarpet\": [{\"marker\": {\"colorbar\": {\"outlinewidth\": 0, \"ticks\": \"\"}}, \"type\": \"scattercarpet\"}], \"scattergeo\": [{\"marker\": {\"colorbar\": {\"outlinewidth\": 0, \"ticks\": \"\"}}, \"type\": \"scattergeo\"}], \"scattergl\": [{\"marker\": {\"colorbar\": {\"outlinewidth\": 0, \"ticks\": \"\"}}, \"type\": \"scattergl\"}], \"scattermapbox\": [{\"marker\": {\"colorbar\": {\"outlinewidth\": 0, \"ticks\": \"\"}}, \"type\": \"scattermapbox\"}], \"scatterpolar\": [{\"marker\": {\"colorbar\": {\"outlinewidth\": 0, \"ticks\": \"\"}}, \"type\": \"scatterpolar\"}], \"scatterpolargl\": [{\"marker\": {\"colorbar\": {\"outlinewidth\": 0, \"ticks\": \"\"}}, \"type\": \"scatterpolargl\"}], \"scatterternary\": [{\"marker\": {\"colorbar\": {\"outlinewidth\": 0, \"ticks\": \"\"}}, \"type\": \"scatterternary\"}], \"surface\": [{\"colorbar\": {\"outlinewidth\": 0, \"ticks\": \"\"}, \"colorscale\": [[0.0, \"#0d0887\"], [0.1111111111111111, \"#46039f\"], [0.2222222222222222, \"#7201a8\"], [0.3333333333333333, \"#9c179e\"], [0.4444444444444444, \"#bd3786\"], [0.5555555555555556, \"#d8576b\"], [0.6666666666666666, \"#ed7953\"], [0.7777777777777778, \"#fb9f3a\"], [0.8888888888888888, \"#fdca26\"], [1.0, \"#f0f921\"]], \"type\": \"surface\"}], \"table\": [{\"cells\": {\"fill\": {\"color\": \"#EBF0F8\"}, \"line\": {\"color\": \"white\"}}, \"header\": {\"fill\": {\"color\": \"#C8D4E3\"}, \"line\": {\"color\": \"white\"}}, \"type\": \"table\"}]}, \"layout\": {\"annotationdefaults\": {\"arrowcolor\": \"#2a3f5f\", \"arrowhead\": 0, \"arrowwidth\": 1}, \"autotypenumbers\": \"strict\", \"coloraxis\": {\"colorbar\": {\"outlinewidth\": 0, \"ticks\": \"\"}}, \"colorscale\": {\"diverging\": [[0, \"#8e0152\"], [0.1, \"#c51b7d\"], [0.2, \"#de77ae\"], [0.3, \"#f1b6da\"], [0.4, \"#fde0ef\"], [0.5, \"#f7f7f7\"], [0.6, \"#e6f5d0\"], [0.7, \"#b8e186\"], [0.8, \"#7fbc41\"], [0.9, \"#4d9221\"], [1, \"#276419\"]], \"sequential\": [[0.0, \"#0d0887\"], [0.1111111111111111, \"#46039f\"], [0.2222222222222222, \"#7201a8\"], [0.3333333333333333, \"#9c179e\"], [0.4444444444444444, \"#bd3786\"], [0.5555555555555556, \"#d8576b\"], [0.6666666666666666, \"#ed7953\"], [0.7777777777777778, \"#fb9f3a\"], [0.8888888888888888, \"#fdca26\"], [1.0, \"#f0f921\"]], \"sequentialminus\": [[0.0, \"#0d0887\"], [0.1111111111111111, \"#46039f\"], [0.2222222222222222, \"#7201a8\"], [0.3333333333333333, \"#9c179e\"], [0.4444444444444444, \"#bd3786\"], [0.5555555555555556, \"#d8576b\"], [0.6666666666666666, \"#ed7953\"], [0.7777777777777778, \"#fb9f3a\"], [0.8888888888888888, \"#fdca26\"], [1.0, \"#f0f921\"]]}, \"colorway\": [\"#636efa\", \"#EF553B\", \"#00cc96\", \"#ab63fa\", \"#FFA15A\", \"#19d3f3\", \"#FF6692\", \"#B6E880\", \"#FF97FF\", \"#FECB52\"], \"font\": {\"color\": \"#2a3f5f\"}, \"geo\": {\"bgcolor\": \"white\", \"lakecolor\": \"white\", \"landcolor\": \"#E5ECF6\", \"showlakes\": true, \"showland\": true, \"subunitcolor\": \"white\"}, \"hoverlabel\": {\"align\": \"left\"}, \"hovermode\": \"closest\", \"mapbox\": {\"style\": \"light\"}, \"paper_bgcolor\": \"white\", \"plot_bgcolor\": \"#E5ECF6\", \"polar\": {\"angularaxis\": {\"gridcolor\": \"white\", \"linecolor\": \"white\", \"ticks\": \"\"}, \"bgcolor\": \"#E5ECF6\", \"radialaxis\": {\"gridcolor\": \"white\", \"linecolor\": \"white\", \"ticks\": \"\"}}, \"scene\": {\"xaxis\": {\"backgroundcolor\": \"#E5ECF6\", \"gridcolor\": \"white\", \"gridwidth\": 2, \"linecolor\": \"white\", \"showbackground\": true, \"ticks\": \"\", \"zerolinecolor\": \"white\"}, \"yaxis\": {\"backgroundcolor\": \"#E5ECF6\", \"gridcolor\": \"white\", \"gridwidth\": 2, \"linecolor\": \"white\", \"showbackground\": true, \"ticks\": \"\", \"zerolinecolor\": \"white\"}, \"zaxis\": {\"backgroundcolor\": \"#E5ECF6\", \"gridcolor\": \"white\", \"gridwidth\": 2, \"linecolor\": \"white\", \"showbackground\": true, \"ticks\": \"\", \"zerolinecolor\": \"white\"}}, \"shapedefaults\": {\"line\": {\"color\": \"#2a3f5f\"}}, \"ternary\": {\"aaxis\": {\"gridcolor\": \"white\", \"linecolor\": \"white\", \"ticks\": \"\"}, \"baxis\": {\"gridcolor\": \"white\", \"linecolor\": \"white\", \"ticks\": \"\"}, \"bgcolor\": \"#E5ECF6\", \"caxis\": {\"gridcolor\": \"white\", \"linecolor\": \"white\", \"ticks\": \"\"}}, \"title\": {\"x\": 0.05}, \"xaxis\": {\"automargin\": true, \"gridcolor\": \"white\", \"linecolor\": \"white\", \"ticks\": \"\", \"title\": {\"standoff\": 15}, \"zerolinecolor\": \"white\", \"zerolinewidth\": 2}, \"yaxis\": {\"automargin\": true, \"gridcolor\": \"white\", \"linecolor\": \"white\", \"ticks\": \"\", \"title\": {\"standoff\": 15}, \"zerolinecolor\": \"white\", \"zerolinewidth\": 2}}}},                        {\"responsive\": true}                    ).then(function(){\n",
       "                            \n",
       "var gd = document.getElementById('cf31e4dc-ec0f-4c1c-90ad-e7cefcd89d23');\n",
       "var x = new MutationObserver(function (mutations, observer) {{\n",
       "        var display = window.getComputedStyle(gd).display;\n",
       "        if (!display || display === 'none') {{\n",
       "            console.log([gd, 'removed!']);\n",
       "            Plotly.purge(gd);\n",
       "            observer.disconnect();\n",
       "        }}\n",
       "}});\n",
       "\n",
       "// Listen for the removal of the full notebook cells\n",
       "var notebookContainer = gd.closest('#notebook-container');\n",
       "if (notebookContainer) {{\n",
       "    x.observe(notebookContainer, {childList: true});\n",
       "}}\n",
       "\n",
       "// Listen for the clearing of the current output cell\n",
       "var outputEl = gd.closest('.output');\n",
       "if (outputEl) {{\n",
       "    x.observe(outputEl, {childList: true});\n",
       "}}\n",
       "\n",
       "                        })                };                });            </script>        </div>"
      ]
     },
     "metadata": {},
     "output_type": "display_data"
    }
   ],
   "source": [
    "df = px.data.tips()\n",
    "X = df.total_bill[:, None]\n",
    "X_train, X_test, y_train, y_test = train_test_split(X, df.tip, random_state=0)\n",
    "\n",
    "model = LinearRegression()\n",
    "model.fit(X_train, y_train)\n",
    "\n",
    "x_range = np.linspace(X.min(), X.max(), 100)\n",
    "y_range = model.predict(x_range.reshape(-1, 1))\n",
    "\n",
    "\n",
    "fig = go.Figure([\n",
    "    go.Scatter(x=X_train.squeeze(), y=y_train, name='train', mode='markers'),\n",
    "    go.Scatter(x=X_test.squeeze(), y=y_test, name='test', mode='markers'),\n",
    "    go.Scatter(x=x_range, y=y_range, name='prediction'),\n",
    "    \n",
    "])\n",
    "fig.show()"
   ]
  },
  {
   "cell_type": "code",
   "execution_count": null,
   "metadata": {},
   "outputs": [],
   "source": []
  },
  {
   "cell_type": "code",
   "execution_count": null,
   "metadata": {},
   "outputs": [],
   "source": []
  }
 ],
 "metadata": {
  "kernelspec": {
   "display_name": "Python [conda env:.conda-PythonData]",
   "language": "python",
   "name": "conda-env-.conda-PythonData-py"
  },
  "language_info": {
   "codemirror_mode": {
    "name": "ipython",
    "version": 3
   },
   "file_extension": ".py",
   "mimetype": "text/x-python",
   "name": "python",
   "nbconvert_exporter": "python",
   "pygments_lexer": "ipython3",
   "version": "3.7.1"
  }
 },
 "nbformat": 4,
 "nbformat_minor": 4
}
